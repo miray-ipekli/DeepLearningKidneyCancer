{
  "cells": [
    {
      "cell_type": "code",
      "execution_count": null,
      "metadata": {
        "colab": {
          "base_uri": "https://localhost:8080/"
        },
        "id": "bSIytlo05vcL",
        "outputId": "61fd9dc3-e68d-4d33-d139-c72db211fd91"
      },
      "outputs": [
        {
          "output_type": "stream",
          "name": "stdout",
          "text": [
            "Mounted at /gdrive\n"
          ]
        }
      ],
      "source": [
        "from google.colab import drive\n",
        "drive.mount('/gdrive')"
      ]
    },
    {
      "cell_type": "code",
      "execution_count": null,
      "metadata": {
        "colab": {
          "base_uri": "https://localhost:8080/"
        },
        "id": "_S7r8Zp4CkOI",
        "outputId": "5b27b9a5-a0d0-4808-e4db-ff50bfe03059"
      },
      "outputs": [
        {
          "output_type": "stream",
          "name": "stdout",
          "text": [
            "Collecting keras-tuner\n",
            "  Downloading keras_tuner-1.4.6-py3-none-any.whl (128 kB)\n",
            "\u001b[2K     \u001b[90m━━━━━━━━━━━━━━━━━━━━━━━━━━━━━━━━━━━━━━━━\u001b[0m \u001b[32m128.9/128.9 kB\u001b[0m \u001b[31m3.6 MB/s\u001b[0m eta \u001b[36m0:00:00\u001b[0m\n",
            "\u001b[?25hRequirement already satisfied: keras in /usr/local/lib/python3.10/dist-packages (from keras-tuner) (2.15.0)\n",
            "Requirement already satisfied: packaging in /usr/local/lib/python3.10/dist-packages (from keras-tuner) (23.2)\n",
            "Requirement already satisfied: requests in /usr/local/lib/python3.10/dist-packages (from keras-tuner) (2.31.0)\n",
            "Collecting kt-legacy (from keras-tuner)\n",
            "  Downloading kt_legacy-1.0.5-py3-none-any.whl (9.6 kB)\n",
            "Requirement already satisfied: charset-normalizer<4,>=2 in /usr/local/lib/python3.10/dist-packages (from requests->keras-tuner) (3.3.2)\n",
            "Requirement already satisfied: idna<4,>=2.5 in /usr/local/lib/python3.10/dist-packages (from requests->keras-tuner) (3.6)\n",
            "Requirement already satisfied: urllib3<3,>=1.21.1 in /usr/local/lib/python3.10/dist-packages (from requests->keras-tuner) (2.0.7)\n",
            "Requirement already satisfied: certifi>=2017.4.17 in /usr/local/lib/python3.10/dist-packages (from requests->keras-tuner) (2023.11.17)\n",
            "Installing collected packages: kt-legacy, keras-tuner\n",
            "Successfully installed keras-tuner-1.4.6 kt-legacy-1.0.5\n"
          ]
        }
      ],
      "source": [
        "!pip install keras-tuner\n",
        "import numpy as np\n",
        "import pandas as pd\n",
        "import matplotlib.pyplot as plt\n",
        "import seaborn as sns\n",
        "import glob\n",
        "import cv2\n",
        "import os\n",
        "import keras_tuner as kt\n",
        "import keras as k\n",
        "import numpy as np\n",
        "import argparse\n",
        "import cv2"
      ]
    },
    {
      "cell_type": "code",
      "execution_count": null,
      "metadata": {
        "colab": {
          "base_uri": "https://localhost:8080/"
        },
        "id": "zKDfD5KUQDkT",
        "outputId": "797a1543-7da0-471e-8a3f-586032a9c184"
      },
      "outputs": [
        {
          "output_type": "stream",
          "name": "stdout",
          "text": [
            "['Normal', 'Tumor']\n"
          ]
        }
      ],
      "source": [
        "#import os\n",
        "print(os.listdir(\"/gdrive/My Drive/Kidney_Cancer/Kidney Cancer\"))"
      ]
    },
    {
      "cell_type": "code",
      "execution_count": null,
      "metadata": {
        "id": "aXcLaX0JdHRo"
      },
      "outputs": [],
      "source": [
        "DATADIR = '/gdrive/My Drive/Kidney_Cancer/Kidney Cancer'\n",
        "CATEGORIES = [\"Tumor\",\"Normal\"]"
      ]
    },
    {
      "cell_type": "code",
      "execution_count": null,
      "metadata": {
        "id": "D-ycqmu3dYYK"
      },
      "outputs": [],
      "source": [
        "IMG_SIZE = 250"
      ]
    },
    {
      "cell_type": "code",
      "execution_count": null,
      "metadata": {
        "id": "jIJW9pNxdbsp"
      },
      "outputs": [],
      "source": [
        "# Boş bir liste oluşturuluyor, burada özellikler ve etiketler depolanacak.\n",
        "all_data =[]\n",
        "\n",
        "def create_all_data():\n",
        "  # Tanımlanan sınıfların her biri üzerinde dönülüyor.\n",
        "    for category in CATEGORIES:\n",
        "       # Sınıfa ait dosya yolu oluşturuluyor.\n",
        "        path=os.path.join(DATADIR, category)\n",
        "        # Sınıf numarası belirleniyor.\n",
        "        class_num=CATEGORIES.index(category)\n",
        "        # Belirtilen sınıfın dosya dizini içindeki her bir görüntü dosyası üzerinde dönülüyor.\n",
        "        for img in os.listdir(path):\n",
        "            try:\n",
        "              # Görüntü dosyasını okuyor.\n",
        "                img_array=cv2.imread(os.path.join(path,img))\n",
        "                # Görüntüyü belirli bir boyuta yeniden boyutlandırıyor.\n",
        "                new_array=cv2.resize(img_array,(IMG_SIZE,IMG_SIZE))\n",
        "                # Yeni özellik ve etiket, all_data listesine ekleniyor.\n",
        "                all_data.append([new_array,class_num])\n",
        "            except Exception as e:\n",
        "              # Görüntü okuma veya boyutlandırma sırasında hata alınırsa, hatay görmezden geliniyor.\n",
        "                pass\n",
        "create_all_data()\n"
      ]
    },
    {
      "cell_type": "code",
      "execution_count": null,
      "metadata": {
        "colab": {
          "base_uri": "https://localhost:8080/"
        },
        "id": "bktO2lnrdkiF",
        "outputId": "242b7a05-8612-4392-b35b-97094a08e8f6"
      },
      "outputs": [
        {
          "output_type": "stream",
          "name": "stdout",
          "text": [
            "Total number of images:  10000\n"
          ]
        }
      ],
      "source": [
        "print(\"Total number of images: \", len(all_data))"
      ]
    },
    {
      "cell_type": "code",
      "execution_count": null,
      "metadata": {
        "id": "gsc0BNIwd0Q3"
      },
      "outputs": [],
      "source": [
        "# Özellikleri (görüntü verileri) tutacak liste\n",
        "X = []\n",
        "# Etiketleri (sınıf numaraları) tutacak liste\n",
        "y = []\n",
        "\n",
        "for categories, label in all_data:\n",
        "  X.append(categories)\n",
        "  y.append(label)"
      ]
    },
    {
      "cell_type": "code",
      "execution_count": null,
      "metadata": {
        "id": "h0yxxardd14L"
      },
      "outputs": [],
      "source": [
        "from sklearn.model_selection import train_test_split\n",
        "\n",
        "# Veriyi eğitim ve test setlerine ayırma işlemi\n",
        "x_train, x_test, y_train, y_test = train_test_split(X, y, test_size=0.20, random_state =42)\n",
        "\n",
        "# Eğitim setini daha fazla bölme, bu sefer eğitim ve doğrulama setleri oluşturuluyor\n",
        "x_train, x_val, y_train, y_val = train_test_split(x_train, y_train, test_size=0.10, random_state=42)"
      ]
    },
    {
      "cell_type": "code",
      "execution_count": null,
      "metadata": {
        "id": "NV44AigHeB6d"
      },
      "outputs": [],
      "source": [
        "# Eğitim setini NumPy dizisine dönüştürme\n",
        "x_train = np.array(x_train)\n",
        "x_test = np.array(x_test)\n",
        "\n",
        "# Test setini NumPy dizisine dönüştürme\n",
        "y_train = np.array(y_train)\n",
        "y_test = np.array(y_test)\n",
        "\n",
        "# Doğrulama setini NumPy dizisine dönüştürme\n",
        "x_val = np.array(x_val)\n",
        "y_val = np.array(y_val)"
      ]
    },
    {
      "cell_type": "code",
      "execution_count": null,
      "metadata": {
        "colab": {
          "base_uri": "https://localhost:8080/"
        },
        "id": "OZZbwxWbeDBU",
        "outputId": "e85f7718-d65f-4c44-81fc-853ff99752db"
      },
      "outputs": [
        {
          "output_type": "stream",
          "name": "stdout",
          "text": [
            "(7200, 250, 250, 3)\n",
            "(2000, 250, 250, 3)\n",
            "(800, 250, 250, 3)\n",
            "(7200,)\n",
            "(2000,)\n",
            "(800,)\n"
          ]
        }
      ],
      "source": [
        "print(x_train.shape)\n",
        "print(x_test.shape)\n",
        "print(x_val.shape)\n",
        "\n",
        "print(y_train.shape)\n",
        "print(y_test.shape)\n",
        "print(y_val.shape)"
      ]
    },
    {
      "cell_type": "code",
      "execution_count": null,
      "metadata": {
        "id": "ojJv3xA3eHOX"
      },
      "outputs": [],
      "source": [
        "import tensorflow as tf\n",
        "# Eğitim setindeki sınıfları ikili formata dönüştürme\n",
        "train_yCl = tf.keras.utils.to_categorical(y_train, num_classes=2)\n",
        "# Test setindeki sınıfları ikili formata dönüştürme\n",
        "test_yCl = tf.keras.utils.to_categorical(y_test, num_classes=2)\n",
        "# Doğrulama setindeki sınıfları ikili formata dönüştürme\n",
        "valid_yCl = tf.keras.utils.to_categorical(y_val, num_classes=2)"
      ]
    },
    {
      "cell_type": "code",
      "execution_count": null,
      "metadata": {
        "id": "E4Vmgmq0eH6m"
      },
      "outputs": [],
      "source": [
        "from keras.layers import Dense, Activation, BatchNormalization, Flatten, Conv2D, MaxPooling2D, Dropout, AveragePooling2D\n",
        "from keras.models import Sequential\n",
        "from tensorflow.keras.optimizers.legacy import Adam\n",
        "# CNN modelinin tanımlanması\n",
        "def cnnModel(hp):\n",
        "  model = Sequential()\n",
        "\n",
        "  hp_LR = hp.Choice('learning_rate',\n",
        "                    values = [1e-2, 1e-3, 1e-4])\n",
        "\n",
        "  hp_filters = hp.Int('filters_hp',\n",
        "                      min_value = 32,\n",
        "                      max_value = 512,\n",
        "                      step = 32)\n",
        "\n",
        "  hp_dropout = hp.Float('dropout',\n",
        "                        0.2,\n",
        "                        0.5,\n",
        "                        step=0.05,\n",
        "                        default=0.5)\n",
        "  hp_unit = hp.Int('units',\n",
        "                    min_value=128,\n",
        "                    max_value=1024,\n",
        "                    step=128)\n",
        "\n",
        "\n",
        "  for i in range(hp.Int('conv_blocks', 3, 4, 5, default=3)):\n",
        "      for _ in range(2):\n",
        "        model.add(Conv2D(hp_filters, (3, 3), padding=\"Same\", input_shape=(IMG_SIZE, IMG_SIZE, 3)))\n",
        "        model.add(Activation('relu'))\n",
        "        if hp.Choice('pooling_' + str(i), ['avg', 'max']) == 'max':\n",
        "          model.add(MaxPooling2D(pool_size=(2, 2)))\n",
        "        else:\n",
        "          model.add(AveragePooling2D(pool_size=(2, 2)))\n",
        "      model.add(BatchNormalization())\n",
        "      # Overfittingi azaltır.\n",
        "      model.add(Dropout(0.13))\n",
        "\n",
        "  # Tam Bağlantılı (Fully Connected) Katmanlar\n",
        "  model.add(Flatten())\n",
        "  model.add(Dropout(hp_dropout))\n",
        "  model.add(Dense(hp_unit))\n",
        "  model.add(Activation('relu'))\n",
        "  model.add(Dropout(hp_dropout))\n",
        "  model.add(Dense(hp_unit))\n",
        "  model.add(Activation('relu'))\n",
        "  model.add(Dense(2))\n",
        "  model.add(Activation('softmax'))\n",
        "\n",
        "# Çıkış Katmanı\n",
        "  optimizer = tf.keras.optimizers.legacy.Adam(\n",
        "    learning_rate = hp_LR,\n",
        "    beta_1=0.9,\n",
        "    beta_2=0.999,\n",
        "    name='Adam'\n",
        "  )\n",
        "\n",
        "# Optimizasyon ve model derleme\n",
        "  model.compile(loss=\"categorical_crossentropy\", optimizer=optimizer, metrics=['accuracy'])\n",
        "\n",
        "  return model"
      ]
    },
    {
      "cell_type": "code",
      "execution_count": null,
      "metadata": {
        "id": "i6wWN5bZ3csH"
      },
      "outputs": [],
      "source": [
        "from tensorflow import keras\n",
        "# En iyi performans gösteren modelin ağırlıkları kaydeder.\n",
        "callback_list = [\n",
        "    keras.callbacks.ModelCheckpoint(\n",
        "        filepath='model.h5',\n",
        "        # Sadece en iyi modeli kaydet\n",
        "        monitor = 'val_accuracy', save_best_only=True, verbose=3\n",
        "    ),\n",
        "     # EarlyStopping callback'i, 'val_loss' metriği üzerinde belirtilen sabır süresi (3) boyunca bir iyileşme olmadığında eğitimi durdurur.\n",
        "    keras.callbacks.EarlyStopping(monitor='val_loss', patience=3, verbose=3)\n",
        "]\n"
      ]
    },
    {
      "cell_type": "code",
      "execution_count": null,
      "metadata": {
        "colab": {
          "base_uri": "https://localhost:8080/"
        },
        "id": "LEGvRXIbn4Js",
        "outputId": "f7826adc-c97b-4032-e1ce-fb7afd80bf68"
      },
      "outputs": [
        {
          "output_type": "stream",
          "name": "stdout",
          "text": [
            "Trial 6 Complete [00h 11m 22s]\n",
            "val_accuracy: 1.0\n",
            "\n",
            "Best val_accuracy So Far: 1.0\n",
            "Total elapsed time: 00h 35m 02s\n",
            "Search space summary\n",
            "Default search space size: 8\n",
            "learning_rate (Choice)\n",
            "{'default': 0.01, 'conditions': [], 'values': [0.01, 0.001, 0.0001], 'ordered': True}\n",
            "filters_hp (Int)\n",
            "{'default': None, 'conditions': [], 'min_value': 64, 'max_value': 512, 'step': 32, 'sampling': 'linear'}\n",
            "dropout (Float)\n",
            "{'default': 0.5, 'conditions': [], 'min_value': 0.2, 'max_value': 0.5, 'step': 0.05, 'sampling': 'linear'}\n",
            "units (Int)\n",
            "{'default': None, 'conditions': [], 'min_value': 256, 'max_value': 1024, 'step': 256, 'sampling': 'linear'}\n",
            "conv_blocks (Int)\n",
            "{'default': 3, 'conditions': [], 'min_value': 3, 'max_value': 4, 'step': 5, 'sampling': 'linear'}\n",
            "pooling_0 (Choice)\n",
            "{'default': 'avg', 'conditions': [], 'values': ['avg', 'max'], 'ordered': False}\n",
            "pooling_1 (Choice)\n",
            "{'default': 'avg', 'conditions': [], 'values': ['avg', 'max'], 'ordered': False}\n",
            "pooling_2 (Choice)\n",
            "{'default': 'avg', 'conditions': [], 'values': ['avg', 'max'], 'ordered': False}\n",
            "Epoch 1/30\n",
            "\n",
            "Epoch 1: val_accuracy improved from -inf to 0.49250, saving model to model.h5\n",
            "Epoch 2/30\n",
            "\n",
            "Epoch 2: val_accuracy improved from 0.49250 to 0.70500, saving model to model.h5\n",
            "Epoch 3/30\n",
            "\n",
            "Epoch 3: val_accuracy improved from 0.70500 to 0.97125, saving model to model.h5\n",
            "Epoch 4/30\n",
            "\n",
            "Epoch 4: val_accuracy did not improve from 0.97125\n",
            "Epoch 5/30\n",
            "\n",
            "Epoch 5: val_accuracy improved from 0.97125 to 0.99375, saving model to model.h5\n",
            "Epoch 6/30\n",
            "\n",
            "Epoch 6: val_accuracy improved from 0.99375 to 0.99750, saving model to model.h5\n",
            "Epoch 7/30\n",
            "\n",
            "Epoch 7: val_accuracy did not improve from 0.99750\n",
            "Epoch 8/30\n",
            "\n",
            "Epoch 8: val_accuracy did not improve from 0.99750\n",
            "Epoch 9/30\n",
            "\n",
            "Epoch 9: val_accuracy did not improve from 0.99750\n",
            "Epoch 9: early stopping\n"
          ]
        }
      ],
      "source": [
        "# Keras Tuner'ın RandomSearch metodunu kullanılır.\n",
        "tuner = kt.RandomSearch(\n",
        "\t\thypermodel = cnnModel,\n",
        "\t\toptimizer=keras.optimizers.Adam(),\n",
        "    loss=\"categorical_crossentropy\",\n",
        "    metrics=['accuracy'],\n",
        "\t\t# Optimizasyon hedefi\n",
        "\t\tobjective=\"val_accuracy\",\n",
        "\t\t# Deneme sayısı\n",
        "\t\tmax_trials=6,\n",
        "\t\t# Rastgele sayı üretimi için kullanılan tohum değeri\n",
        "\t\tseed=42,\n",
        "\t\t)\n",
        "\n",
        "# Modeli eğitirken kullanılan veri ve diğer parametreler belirtiliyor.\n",
        "tuner.search(\n",
        "\tx=x_train, y=train_yCl,\n",
        "\tvalidation_data=(x_val, valid_yCl),\n",
        "\t# Eğitim sırasında kullanılacak callback'ler\n",
        "\tcallbacks=  callback_list,\n",
        "\t# Eğitim epoch sayısı\n",
        "\tepochs = 15\n",
        ")\n",
        "\n",
        "# Hiperparametre araştırması sonuçları özetleniyor.\n",
        "tuner.search_space_summary(extended=True)\n",
        "\n",
        "# En iyi hiperparametre setini alıyoruz.\n",
        "best_hp = tuner.get_best_hyperparameters(num_trials=1)[0]\n",
        "\n",
        "# En iyi hiperparametre seti ile bir model oluşturuluyor.\n",
        "model = tuner.hypermodel.build(best_hp)\n",
        "\n",
        "# Oluşturulan modeli kullanarak eğitim başlatılıyor.\n",
        "history = model.fit(x_train, train_yCl, validation_data=(x_val, valid_yCl), batch_size=64, epochs=30, callbacks = callback_list, verbose=3)"
      ]
    },
    {
      "cell_type": "code",
      "source": [
        "print(model.summary())"
      ],
      "metadata": {
        "colab": {
          "base_uri": "https://localhost:8080/"
        },
        "id": "QoRqKPXusXGV",
        "outputId": "0c041da9-7242-440c-caef-536993a98a86"
      },
      "execution_count": null,
      "outputs": [
        {
          "output_type": "stream",
          "name": "stdout",
          "text": [
            "Model: \"sequential_1\"\n",
            "_________________________________________________________________\n",
            " Layer (type)                Output Shape              Param #   \n",
            "=================================================================\n",
            " conv2d_6 (Conv2D)           (None, 250, 250, 64)      1792      \n",
            "                                                                 \n",
            " activation_9 (Activation)   (None, 250, 250, 64)      0         \n",
            "                                                                 \n",
            " average_pooling2d_6 (Avera  (None, 125, 125, 64)      0         \n",
            " gePooling2D)                                                    \n",
            "                                                                 \n",
            " conv2d_7 (Conv2D)           (None, 125, 125, 64)      36928     \n",
            "                                                                 \n",
            " activation_10 (Activation)  (None, 125, 125, 64)      0         \n",
            "                                                                 \n",
            " average_pooling2d_7 (Avera  (None, 62, 62, 64)        0         \n",
            " gePooling2D)                                                    \n",
            "                                                                 \n",
            " batch_normalization_3 (Bat  (None, 62, 62, 64)        256       \n",
            " chNormalization)                                                \n",
            "                                                                 \n",
            " dropout_5 (Dropout)         (None, 62, 62, 64)        0         \n",
            "                                                                 \n",
            " conv2d_8 (Conv2D)           (None, 62, 62, 64)        36928     \n",
            "                                                                 \n",
            " activation_11 (Activation)  (None, 62, 62, 64)        0         \n",
            "                                                                 \n",
            " max_pooling2d (MaxPooling2  (None, 31, 31, 64)        0         \n",
            " D)                                                              \n",
            "                                                                 \n",
            " conv2d_9 (Conv2D)           (None, 31, 31, 64)        36928     \n",
            "                                                                 \n",
            " activation_12 (Activation)  (None, 31, 31, 64)        0         \n",
            "                                                                 \n",
            " max_pooling2d_1 (MaxPoolin  (None, 15, 15, 64)        0         \n",
            " g2D)                                                            \n",
            "                                                                 \n",
            " batch_normalization_4 (Bat  (None, 15, 15, 64)        256       \n",
            " chNormalization)                                                \n",
            "                                                                 \n",
            " dropout_6 (Dropout)         (None, 15, 15, 64)        0         \n",
            "                                                                 \n",
            " conv2d_10 (Conv2D)          (None, 15, 15, 64)        36928     \n",
            "                                                                 \n",
            " activation_13 (Activation)  (None, 15, 15, 64)        0         \n",
            "                                                                 \n",
            " average_pooling2d_8 (Avera  (None, 7, 7, 64)          0         \n",
            " gePooling2D)                                                    \n",
            "                                                                 \n",
            " conv2d_11 (Conv2D)          (None, 7, 7, 64)          36928     \n",
            "                                                                 \n",
            " activation_14 (Activation)  (None, 7, 7, 64)          0         \n",
            "                                                                 \n",
            " average_pooling2d_9 (Avera  (None, 3, 3, 64)          0         \n",
            " gePooling2D)                                                    \n",
            "                                                                 \n",
            " batch_normalization_5 (Bat  (None, 3, 3, 64)          256       \n",
            " chNormalization)                                                \n",
            "                                                                 \n",
            " dropout_7 (Dropout)         (None, 3, 3, 64)          0         \n",
            "                                                                 \n",
            " flatten_1 (Flatten)         (None, 576)               0         \n",
            "                                                                 \n",
            " dropout_8 (Dropout)         (None, 576)               0         \n",
            "                                                                 \n",
            " dense_3 (Dense)             (None, 512)               295424    \n",
            "                                                                 \n",
            " activation_15 (Activation)  (None, 512)               0         \n",
            "                                                                 \n",
            " dropout_9 (Dropout)         (None, 512)               0         \n",
            "                                                                 \n",
            " dense_4 (Dense)             (None, 512)               262656    \n",
            "                                                                 \n",
            " activation_16 (Activation)  (None, 512)               0         \n",
            "                                                                 \n",
            " dense_5 (Dense)             (None, 2)                 1026      \n",
            "                                                                 \n",
            " activation_17 (Activation)  (None, 2)                 0         \n",
            "                                                                 \n",
            "=================================================================\n",
            "Total params: 746306 (2.85 MB)\n",
            "Trainable params: 745922 (2.85 MB)\n",
            "Non-trainable params: 384 (1.50 KB)\n",
            "_________________________________________________________________\n",
            "None\n"
          ]
        }
      ]
    },
    {
      "cell_type": "code",
      "execution_count": null,
      "metadata": {
        "id": "xC3PXbb8g9lB",
        "colab": {
          "base_uri": "https://localhost:8080/"
        },
        "outputId": "ec3f3429-ab01-4cb0-9939-32a779286d33"
      },
      "outputs": [
        {
          "output_type": "stream",
          "name": "stdout",
          "text": [
            "225/225 [==============================] - 2s 10ms/step - loss: 0.0266 - accuracy: 0.9911\n",
            "Accuracy:  0.9911110997200012\n",
            "63/63 [==============================] - 1s 14ms/step - loss: 0.0356 - accuracy: 0.9865\n",
            "Accuracy:  0.9865000247955322\n",
            "25/25 [==============================] - 0s 10ms/step - loss: 0.0258 - accuracy: 0.9925\n",
            "Accuracy:  0.9925000071525574\n"
          ]
        }
      ],
      "source": [
        "# Eğitim seti üzerinde modelin performansını değerlendirme\n",
        "score_train = model.evaluate(x_train, train_yCl)\n",
        "print(\"Accuracy: \", score_train[1])\n",
        "\n",
        "# Test seti üzerinde modelin performansını değerlendirme\n",
        "score_test = model.evaluate(x_test, test_yCl)\n",
        "print(\"Accuracy: \", score_test[1])\n",
        "\n",
        "# Doğrulama seti üzerinde modelin performansını değerlendirme\n",
        "score_valid = model.evaluate(x_val, valid_yCl)\n",
        "print(\"Accuracy: \", score_valid[1])"
      ]
    },
    {
      "cell_type": "code",
      "execution_count": null,
      "metadata": {
        "id": "C7TyetcAmIKy"
      },
      "outputs": [],
      "source": [
        "import itertools\n",
        "\n",
        "#Plot the confusion matrix. Set Normalize = True/False\n",
        "def plot_confusion_matrix(cm, classes, normalize=True, title='Confusion matrix', cmap=plt.cm.Reds):\n",
        "    \"\"\"\n",
        "    This function prints and plots the confusion matrix.\n",
        "    Normalization can be applied by setting `normalize=True`.\n",
        "    \"\"\"\n",
        "    # Figür boyutu belirleniyor\n",
        "    plt.figure(figsize=(3,3))\n",
        "    # Matris renkli bir görüntüleme ile çiziliyor\n",
        "    plt.imshow(cm, interpolation='nearest', cmap=cmap)\n",
        "    # Grafik başlığı ayarlanıyor\n",
        "    plt.title(title)\n",
        "    # Renk skalası ekleniyor\n",
        "    plt.colorbar()\n",
        "    # Eksen etiketleri belirleniyor\n",
        "    tick_marks = np.arange(len(classes))\n",
        "    plt.xticks(tick_marks, classes, rotation=45)\n",
        "    plt.yticks(tick_marks, classes)\n",
        "    # Normalizasyon işlemi kontrol ediliyor\n",
        "    if normalize:\n",
        "      # Normalizasyon işlemi\n",
        "        cm = cm.astype('float') / cm.sum(axis=1)[:, np.newaxis]\n",
        "        cm = np.around(cm, decimals=2)\n",
        "        cm[np.isnan(cm)] = 0.0\n",
        "    # Matris hücrelerine değerleri eklemek için eşleştirme yapılıyor\n",
        "    thresh = cm.max() / 2.\n",
        "    for i, j in itertools.product(range(cm.shape[0]), range(cm.shape[1])):\n",
        "        plt.text(j, i, cm[i, j],\n",
        "                 horizontalalignment=\"center\",\n",
        "                 color=\"white\" if cm[i, j] > thresh else \"black\")\n",
        "    # Eksen etiketleri düzenleniyor\n",
        "    plt.tight_layout()\n",
        "    plt.ylabel('True label')\n",
        "    plt.xlabel('Predicted label')"
      ]
    },
    {
      "cell_type": "code",
      "execution_count": null,
      "metadata": {
        "id": "SlITBu9zmI8z",
        "colab": {
          "base_uri": "https://localhost:8080/",
          "height": 564
        },
        "outputId": "6dbe37bb-5f9a-4fa8-c24c-b93922b6bd19"
      },
      "outputs": [
        {
          "output_type": "stream",
          "name": "stdout",
          "text": [
            "63/63 [==============================] - 1s 8ms/step\n",
            "Accuracy: 0.9865\n",
            "Precision: 0.9868591133004926\n",
            "Recall: 0.9865\n",
            "F1-Score: 0.9864997266243849\n",
            "Classification Report:\n",
            "              precision    recall  f1-score   support\n",
            "\n",
            "           0       1.00      0.97      0.99      1012\n",
            "           1       0.97      1.00      0.99       988\n",
            "\n",
            "    accuracy                           0.99      2000\n",
            "   macro avg       0.99      0.99      0.99      2000\n",
            "weighted avg       0.99      0.99      0.99      2000\n",
            "\n"
          ]
        },
        {
          "output_type": "display_data",
          "data": {
            "text/plain": [
              "<Figure size 300x300 with 2 Axes>"
            ],
            "image/png": "[encoded data removed]"
          },
          "metadata": {}
        }
      ],
      "source": [
        "from sklearn.metrics import accuracy_score, precision_score, recall_score, f1_score, classification_report, confusion_matrix\n",
        "\n",
        "def evaluate_model(model, x_test, y_test):\n",
        "    # Accuracy Score\n",
        "    y_pred = model.predict(x_test)\n",
        "    y_pred_classes = np.argmax(y_pred, axis=1)\n",
        "    y_test_classes = np.argmax(test_yCl, axis=1)\n",
        "    accuracy = accuracy_score(y_test_classes, y_pred_classes)\n",
        "    print(f\"Accuracy: {accuracy}\")\n",
        "\n",
        "    # Precision Score\n",
        "    precision = precision_score(y_test_classes, y_pred_classes, average='weighted')\n",
        "    print(f\"Precision: {precision}\")\n",
        "\n",
        "    # Recall Score\n",
        "    recall = recall_score(y_test_classes, y_pred_classes, average='weighted')\n",
        "    print(f\"Recall: {recall}\")\n",
        "\n",
        "    # F1 Score\n",
        "    f1 = f1_score(y_test_classes, y_pred_classes, average='weighted')\n",
        "    print(f\"F1-Score: {f1}\")\n",
        "\n",
        "    # Classification Report\n",
        "    print(\"Classification Report:\")\n",
        "    print(classification_report(y_test_classes, y_pred_classes))\n",
        "\n",
        "    # Confusion Matrix\n",
        "    cm = confusion_matrix(y_test_classes, y_pred_classes)\n",
        "    classes = [\"Tumor\",\"Normal\"]\n",
        "    plot_confusion_matrix(cm, classes, title='Confusion Matrix')\n",
        "\n",
        "# Modeli değerlendir\n",
        "evaluate_model(model, x_test, y_test)\n"
      ]
    }
  ],
  "metadata": {
    "accelerator": "GPU",
    "colab": {
      "provenance": [],
      "machine_shape": "hm",
      "gpuType": "V100"
    },
    "kernelspec": {
      "display_name": "Python 3",
      "name": "python3"
    },
    "language_info": {
      "name": "python"
    }
  },
  "nbformat": 4,
  "nbformat_minor": 0
}