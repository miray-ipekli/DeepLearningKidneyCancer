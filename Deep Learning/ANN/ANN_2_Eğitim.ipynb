{
  "cells": [
    {
      "cell_type": "code",
      "execution_count": null,
      "metadata": {
        "id": "krNGn6oQGAd6"
      },
      "outputs": [],
      "source": [
        "from google.colab import drive\n",
        "drive.mount('/gdrive')"
      ]
    },
    {
      "cell_type": "code",
      "execution_count": null,
      "metadata": {
        "id": "09s9JW9NRBU7"
      },
      "outputs": [],
      "source": [
        "from keras.models import Sequential\n",
        "from keras.layers import Dense, Flatten, BatchNormalization, Dropout\n",
        "import numpy as np\n",
        "import pandas as pd\n",
        "import matplotlib.pyplot as plt\n",
        "import os"
      ]
    },
    {
      "cell_type": "code",
      "execution_count": null,
      "metadata": {
        "colab": {
          "base_uri": "https://localhost:8080/"
        },
        "id": "cEU9y-L5RGfn",
        "outputId": "887f01ca-50a0-4aa7-8f14-8a0733c15540"
      },
      "outputs": [
        {
          "output_type": "stream",
          "name": "stdout",
          "text": [
            "['Normal', 'Tumor']\n"
          ]
        }
      ],
      "source": [
        "#import os\n",
        "print(os.listdir(\"/gdrive/My Drive/Kidney_Cancer/Kidney Cancer\"))"
      ]
    },
    {
      "cell_type": "code",
      "execution_count": null,
      "metadata": {
        "id": "GxwEFVN2Rgto"
      },
      "outputs": [],
      "source": [
        "DATADIR = '/gdrive/My Drive/Kidney_Cancer/Kidney Cancer'\n",
        "CATEGORIES = [\"Tumor\",\"Normal\"]"
      ]
    },
    {
      "cell_type": "code",
      "execution_count": null,
      "metadata": {
        "id": "xOZ1k2VWRkhy"
      },
      "outputs": [],
      "source": [
        "IMG_SIZE = 250"
      ]
    },
    {
      "cell_type": "code",
      "execution_count": null,
      "metadata": {
        "id": "KQA9wPqURm9V"
      },
      "outputs": [],
      "source": [
        "import cv2\n",
        "\n",
        "all_data =[]\n",
        "\n",
        "def create_all_data():\n",
        "    for category in CATEGORIES:\n",
        "        path=os.path.join(DATADIR, category)\n",
        "        class_num=CATEGORIES.index(category)\n",
        "        for img in os.listdir(path):\n",
        "            try:\n",
        "                img_array=cv2.imread(os.path.join(path,img))\n",
        "                new_array=cv2.resize(img_array,(IMG_SIZE,IMG_SIZE))\n",
        "                all_data.append([new_array,class_num])\n",
        "            except Exception as e:\n",
        "                pass\n",
        "create_all_data()"
      ]
    },
    {
      "cell_type": "code",
      "execution_count": null,
      "metadata": {
        "colab": {
          "base_uri": "https://localhost:8080/"
        },
        "id": "qnEsKCESRyRv",
        "outputId": "a9d96b6f-2ece-40dd-e41a-c0d245c7206b"
      },
      "outputs": [
        {
          "output_type": "stream",
          "name": "stdout",
          "text": [
            "Total number of images:  10000\n"
          ]
        }
      ],
      "source": [
        "print(\"Total number of images: \", len(all_data))"
      ]
    },
    {
      "cell_type": "code",
      "execution_count": null,
      "metadata": {
        "id": "AowZxji-R0p4"
      },
      "outputs": [],
      "source": [
        "X = []\n",
        "y = []\n",
        "\n",
        "for categories, label in all_data:\n",
        "  X.append(categories)\n",
        "  y.append(label)"
      ]
    },
    {
      "cell_type": "code",
      "execution_count": null,
      "metadata": {
        "id": "dzdjYilRR3cy"
      },
      "outputs": [],
      "source": [
        "from sklearn.model_selection import train_test_split\n",
        "\n",
        "x_train, x_test, y_train, y_test = train_test_split(X, y, test_size=0.30, random_state =42)\n",
        "\n",
        "x_train, x_val, y_train, y_val = train_test_split(x_train, y_train, test_size=0.10, random_state=42)"
      ]
    },
    {
      "cell_type": "code",
      "execution_count": null,
      "metadata": {
        "id": "TgjYnJMtSeo1"
      },
      "outputs": [],
      "source": [
        "x_train = np.array(x_train)\n",
        "x_test = np.array(x_test)\n",
        "\n",
        "y_train = np.array(y_train)\n",
        "y_test = np.array(y_test)\n",
        "\n",
        "x_val = np.array(x_val)\n",
        "y_val = np.array(y_val)"
      ]
    },
    {
      "cell_type": "code",
      "execution_count": null,
      "metadata": {
        "colab": {
          "base_uri": "https://localhost:8080/"
        },
        "id": "wycyJ5_ISjH-",
        "outputId": "a91f4119-35cf-4a65-8e52-cb987fd5e36a"
      },
      "outputs": [
        {
          "output_type": "stream",
          "name": "stdout",
          "text": [
            "(6300, 250, 250, 3)\n",
            "(3000, 250, 250, 3)\n",
            "(700, 250, 250, 3)\n",
            "(6300,)\n",
            "(3000,)\n",
            "(700,)\n"
          ]
        }
      ],
      "source": [
        "print(x_train.shape)\n",
        "print(x_test.shape)\n",
        "print(x_val.shape)\n",
        "\n",
        "print(y_train.shape)\n",
        "print(y_test.shape)\n",
        "print(y_val.shape)"
      ]
    },
    {
      "cell_type": "code",
      "execution_count": null,
      "metadata": {
        "id": "ZlKpXDfsSlAd"
      },
      "outputs": [],
      "source": [
        "import tensorflow as tf\n",
        "\n",
        "train_yCl = tf.keras.utils.to_categorical(y_train, num_classes=2)\n",
        "test_yCl = tf.keras.utils.to_categorical(y_test, num_classes=2)\n",
        "valid_yCl = tf.keras.utils.to_categorical(y_val, num_classes=2)"
      ]
    },
    {
      "cell_type": "code",
      "execution_count": null,
      "metadata": {
        "id": "bRPuHvVQSns9"
      },
      "outputs": [],
      "source": [
        "model = Sequential()"
      ]
    },
    {
      "cell_type": "code",
      "execution_count": null,
      "metadata": {
        "id": "iFdV6CaDU9SV"
      },
      "outputs": [],
      "source": [
        "from keras import regularizers\n",
        "model.add(Flatten(input_shape=(IMG_SIZE, IMG_SIZE, 3)))\n",
        "model.add(Dense(128, activation='relu', kernel_regularizer=regularizers.l2(0.01)))\n",
        "model.add(Dense(64, activation='relu', kernel_regularizer=regularizers.l2(0.01)))\n",
        "model.add(Dense(32, activation='relu', kernel_regularizer=regularizers.l2(0.01)))\n",
        "model.add(BatchNormalization())\n",
        "model.add(Dense(2, activation='softmax'))"
      ]
    },
    {
      "cell_type": "code",
      "execution_count": null,
      "metadata": {
        "id": "Sjt7RBY-Vghf"
      },
      "outputs": [],
      "source": [
        "model.compile(optimizer='adam',\n",
        "              loss='categorical_crossentropy',\n",
        "              metrics=['accuracy'])"
      ]
    },
    {
      "cell_type": "code",
      "execution_count": null,
      "metadata": {
        "colab": {
          "base_uri": "https://localhost:8080/"
        },
        "id": "3ALCCKCrVniB",
        "outputId": "06fc379a-3ba4-4168-c2d9-15aa2439e562"
      },
      "outputs": [
        {
          "output_type": "stream",
          "name": "stdout",
          "text": [
            "Model: \"sequential\"\n",
            "_________________________________________________________________\n",
            " Layer (type)                Output Shape              Param #   \n",
            "=================================================================\n",
            " flatten (Flatten)           (None, 187500)            0         \n",
            "                                                                 \n",
            " dense (Dense)               (None, 128)               24000128  \n",
            "                                                                 \n",
            " dense_1 (Dense)             (None, 64)                8256      \n",
            "                                                                 \n",
            " dense_2 (Dense)             (None, 32)                2080      \n",
            "                                                                 \n",
            " batch_normalization (Batch  (None, 32)                128       \n",
            " Normalization)                                                  \n",
            "                                                                 \n",
            " dense_3 (Dense)             (None, 2)                 66        \n",
            "                                                                 \n",
            "=================================================================\n",
            "Total params: 24010658 (91.59 MB)\n",
            "Trainable params: 24010594 (91.59 MB)\n",
            "Non-trainable params: 64 (256.00 Byte)\n",
            "_________________________________________________________________\n"
          ]
        }
      ],
      "source": [
        "model.summary()"
      ]
    },
    {
      "cell_type": "code",
      "execution_count": null,
      "metadata": {
        "id": "m8SaNnp9Wi46"
      },
      "outputs": [],
      "source": [
        "from tensorflow import keras\n",
        "# En iyi performans gösteren modelin ağırlıkları kaydeder.\n",
        "callback_list = [\n",
        "    keras.callbacks.ModelCheckpoint(\n",
        "        filepath='model.h5',\n",
        "        # Sadece en iyi modeli kaydet\n",
        "        monitor = 'val_accuracy', save_best_only=True, verbose=3\n",
        "    ),\n",
        "     # EarlyStopping callback'i, 'val_loss' metriği üzerinde belirtilen sabır süresi (3) boyunca bir iyileşme olmadığında eğitimi durdurur.\n",
        "    keras.callbacks.EarlyStopping(monitor='val_loss', patience=3, verbose=3)\n",
        "]"
      ]
    },
    {
      "cell_type": "code",
      "execution_count": null,
      "metadata": {
        "colab": {
          "base_uri": "https://localhost:8080/"
        },
        "id": "IxBndex5VqVP",
        "outputId": "3f2cbade-3ea4-4585-8f62-a59ec5f6c082"
      },
      "outputs": [
        {
          "output_type": "stream",
          "name": "stdout",
          "text": [
            "Epoch 1/10\n",
            "196/197 [============================>.] - ETA: 0s - loss: 3.2636 - accuracy: 0.8972\n",
            "Epoch 1: val_accuracy improved from -inf to 0.56857, saving model to model.h5\n"
          ]
        },
        {
          "output_type": "stream",
          "name": "stderr",
          "text": [
            "/usr/local/lib/python3.10/dist-packages/keras/src/engine/training.py:3103: UserWarning: You are saving your model as an HDF5 file via `model.save()`. This file format is considered legacy. We recommend using instead the native Keras format, e.g. `model.save('my_model.keras')`.\n",
            "  saving_api.save_model(\n"
          ]
        },
        {
          "output_type": "stream",
          "name": "stdout",
          "text": [
            "\b\b\b\b\b\b\b\b\b\b\b\b\b\b\b\b\b\b\b\b\b\b\b\b\b\b\b\b\b\b\b\b\b\b\b\b\b\b\b\b\b\b\b\b\b\b\b\b\b\b\b\b\b\b\b\b\b\b\b\b\b\b\b\b\b\b\b\b\b\b\b\b\b\b\b\b\b\b\b\b\b\b\b\b\r197/197 [==============================] - 6s 14ms/step - loss: 3.2544 - accuracy: 0.8976 - val_loss: 1.8561 - val_accuracy: 0.5686\n",
            "Epoch 2/10\n",
            "190/197 [===========================>..] - ETA: 0s - loss: 0.9627 - accuracy: 0.9378\n",
            "Epoch 2: val_accuracy improved from 0.56857 to 0.95000, saving model to model.h5\n",
            "197/197 [==============================] - 2s 12ms/step - loss: 0.9528 - accuracy: 0.9390 - val_loss: 0.7131 - val_accuracy: 0.9500\n",
            "Epoch 3/10\n",
            "191/197 [============================>.] - ETA: 0s - loss: 0.7363 - accuracy: 0.9424\n",
            "Epoch 3: val_accuracy did not improve from 0.95000\n",
            "197/197 [==============================] - 1s 7ms/step - loss: 0.7312 - accuracy: 0.9430 - val_loss: 0.6563 - val_accuracy: 0.9243\n",
            "Epoch 4/10\n",
            "196/197 [============================>.] - ETA: 0s - loss: 0.5881 - accuracy: 0.9429\n",
            "Epoch 4: val_accuracy improved from 0.95000 to 0.95429, saving model to model.h5\n",
            "197/197 [==============================] - 2s 12ms/step - loss: 0.5882 - accuracy: 0.9430 - val_loss: 0.6219 - val_accuracy: 0.9543\n",
            "Epoch 5/10\n",
            "191/197 [============================>.] - ETA: 0s - loss: 0.5027 - accuracy: 0.9514\n",
            "Epoch 5: val_accuracy improved from 0.95429 to 0.96286, saving model to model.h5\n",
            "197/197 [==============================] - 2s 11ms/step - loss: 0.5024 - accuracy: 0.9525 - val_loss: 0.5001 - val_accuracy: 0.9629\n",
            "Epoch 6/10\n",
            "195/197 [============================>.] - ETA: 0s - loss: 0.4734 - accuracy: 0.9580\n",
            "Epoch 6: val_accuracy did not improve from 0.96286\n",
            "197/197 [==============================] - 2s 8ms/step - loss: 0.4748 - accuracy: 0.9570 - val_loss: 1.3965 - val_accuracy: 0.7929\n",
            "Epoch 7/10\n",
            "193/197 [============================>.] - ETA: 0s - loss: 0.3847 - accuracy: 0.9686\n",
            "Epoch 7: val_accuracy did not improve from 0.96286\n",
            "197/197 [==============================] - 2s 8ms/step - loss: 0.3842 - accuracy: 0.9684 - val_loss: 0.3986 - val_accuracy: 0.9500\n",
            "Epoch 8/10\n",
            "194/197 [============================>.] - ETA: 0s - loss: 0.3459 - accuracy: 0.9726\n",
            "Epoch 8: val_accuracy did not improve from 0.96286\n",
            "197/197 [==============================] - 1s 8ms/step - loss: 0.3477 - accuracy: 0.9721 - val_loss: 0.4380 - val_accuracy: 0.9457\n",
            "Epoch 9/10\n",
            "195/197 [============================>.] - ETA: 0s - loss: 0.3901 - accuracy: 0.9667\n",
            "Epoch 9: val_accuracy did not improve from 0.96286\n",
            "197/197 [==============================] - 1s 8ms/step - loss: 0.3892 - accuracy: 0.9668 - val_loss: 0.4073 - val_accuracy: 0.9614\n",
            "Epoch 10/10\n",
            "195/197 [============================>.] - ETA: 0s - loss: 0.3632 - accuracy: 0.9686\n",
            "Epoch 10: val_accuracy did not improve from 0.96286\n",
            "197/197 [==============================] - 1s 8ms/step - loss: 0.3628 - accuracy: 0.9687 - val_loss: 0.4857 - val_accuracy: 0.9257\n",
            "Epoch 10: early stopping\n"
          ]
        }
      ],
      "source": [
        "history = model.fit(x_train, train_yCl, epochs=10, validation_data=(x_val, valid_yCl), callbacks=callback_list,)"
      ]
    },
    {
      "cell_type": "code",
      "execution_count": null,
      "metadata": {
        "colab": {
          "base_uri": "https://localhost:8080/"
        },
        "id": "s0PvcLa2VtcV",
        "outputId": "1f734839-2a9c-4773-861d-3ca3648e6198"
      },
      "outputs": [
        {
          "output_type": "stream",
          "name": "stdout",
          "text": [
            "94/94 [==============================] - 0s 4ms/step - loss: 0.5129 - accuracy: 0.9133\n"
          ]
        }
      ],
      "source": [
        "test_loss, test_acc = model.evaluate(x_test, test_yCl)"
      ]
    },
    {
      "cell_type": "code",
      "execution_count": null,
      "metadata": {
        "colab": {
          "base_uri": "https://localhost:8080/"
        },
        "id": "rnyaa6W_V_ua",
        "outputId": "bdea58d2-04fb-478e-a9b2-93a5acdc9cae"
      },
      "outputs": [
        {
          "output_type": "stream",
          "name": "stdout",
          "text": [
            "197/197 [==============================] - 1s 4ms/step - loss: 0.4328 - accuracy: 0.9341\n",
            "Accuracy:  0.9341269731521606\n",
            "94/94 [==============================] - 0s 4ms/step - loss: 0.5129 - accuracy: 0.9133\n",
            "Accuracy:  0.9133333563804626\n",
            "22/22 [==============================] - 0s 4ms/step - loss: 0.4857 - accuracy: 0.9257\n",
            "Accuracy:  0.9257143139839172\n"
          ]
        }
      ],
      "source": [
        "# Eğitim seti üzerinde modelin performansını değerlendirme\n",
        "score_train = model.evaluate(x_train, train_yCl)\n",
        "print(\"Accuracy: \", score_train[1])\n",
        "\n",
        "# Test seti üzerinde modelin performansını değerlendirme\n",
        "score_test = model.evaluate(x_test, test_yCl)\n",
        "print(\"Accuracy: \", score_test[1])\n",
        "\n",
        "# Doğrulama seti üzerinde modelin performansını değerlendirme\n",
        "score_valid = model.evaluate(x_val, valid_yCl)\n",
        "print(\"Accuracy: \", score_valid[1])"
      ]
    },
    {
      "cell_type": "code",
      "execution_count": null,
      "metadata": {
        "id": "Z2zOCwTgWAdm"
      },
      "outputs": [],
      "source": [
        "import itertools\n",
        "\n",
        "#Plot the confusion matrix. Set Normalize = True/False\n",
        "def plot_confusion_matrix(cm, classes, normalize=True, title='Confusion matrix', cmap=plt.cm.Reds):\n",
        "    \"\"\"\n",
        "    This function prints and plots the confusion matrix.\n",
        "    Normalization can be applied by setting `normalize=True`.\n",
        "    \"\"\"\n",
        "    # Figür boyutu belirleniyor\n",
        "    plt.figure(figsize=(3,3))\n",
        "    # Matris renkli bir görüntüleme ile çiziliyor\n",
        "    plt.imshow(cm, interpolation='nearest', cmap=cmap)\n",
        "    # Grafik başlığı ayarlanıyor\n",
        "    plt.title(title)\n",
        "    # Renk skalası ekleniyor\n",
        "    plt.colorbar()\n",
        "    # Eksen etiketleri belirleniyor\n",
        "    tick_marks = np.arange(len(classes))\n",
        "    plt.xticks(tick_marks, classes, rotation=45)\n",
        "    plt.yticks(tick_marks, classes)\n",
        "    # Normalizasyon işlemi kontrol ediliyor\n",
        "    if normalize:\n",
        "      # Normalizasyon işlemi\n",
        "        cm = cm.astype('float') / cm.sum(axis=1)[:, np.newaxis]\n",
        "        cm = np.around(cm, decimals=2)\n",
        "        cm[np.isnan(cm)] = 0.0\n",
        "    # Matris hücrelerine değerleri eklemek için eşleştirme yapılıyor\n",
        "    thresh = cm.max() / 2.\n",
        "    for i, j in itertools.product(range(cm.shape[0]), range(cm.shape[1])):\n",
        "        plt.text(j, i, cm[i, j],\n",
        "                 horizontalalignment=\"center\",\n",
        "                 color=\"white\" if cm[i, j] > thresh else \"black\")\n",
        "    # Eksen etiketleri düzenleniyor\n",
        "    plt.tight_layout()\n",
        "    plt.ylabel('True label')\n",
        "    plt.xlabel('Predicted label')"
      ]
    },
    {
      "cell_type": "code",
      "execution_count": null,
      "metadata": {
        "colab": {
          "base_uri": "https://localhost:8080/",
          "height": 565
        },
        "id": "fii2QFauWCcg",
        "outputId": "f8503e82-d2ae-4488-bf74-7b32e6c65d67"
      },
      "outputs": [
        {
          "output_type": "stream",
          "name": "stdout",
          "text": [
            "94/94 [==============================] - 0s 3ms/step\n",
            "Accuracy: 0.9133333333333333\n",
            "Precision: 0.9221743196715513\n",
            "Recall: 0.9133333333333333\n",
            "F1-Score: 0.9130441999613974\n",
            "Classification Report:\n",
            "              precision    recall  f1-score   support\n",
            "\n",
            "           0       0.98      0.85      0.91      1537\n",
            "           1       0.86      0.98      0.92      1463\n",
            "\n",
            "    accuracy                           0.91      3000\n",
            "   macro avg       0.92      0.92      0.91      3000\n",
            "weighted avg       0.92      0.91      0.91      3000\n",
            "\n"
          ]
        },
        {
          "output_type": "display_data",
          "data": {
            "text/plain": [
              "<Figure size 300x300 with 2 Axes>"
            ],
            "image/png": "[encoded data removed]"
          },
          "metadata": {}
        }
      ],
      "source": [
        "from sklearn.metrics import accuracy_score, precision_score, recall_score, f1_score, classification_report, confusion_matrix\n",
        "\n",
        "def evaluate_model(model, x_test, y_test):\n",
        "    # Accuracy Score\n",
        "    y_pred = model.predict(x_test)\n",
        "    y_pred_classes = np.argmax(y_pred, axis=1)\n",
        "    y_test_classes = np.argmax(test_yCl, axis=1)\n",
        "    accuracy = accuracy_score(y_test_classes, y_pred_classes)\n",
        "    print(f\"Accuracy: {accuracy}\")\n",
        "\n",
        "    # Precision Score\n",
        "    precision = precision_score(y_test_classes, y_pred_classes, average='weighted')\n",
        "    print(f\"Precision: {precision}\")\n",
        "\n",
        "    # Recall Score\n",
        "    recall = recall_score(y_test_classes, y_pred_classes, average='weighted')\n",
        "    print(f\"Recall: {recall}\")\n",
        "\n",
        "    # F1 Score\n",
        "    f1 = f1_score(y_test_classes, y_pred_classes, average='weighted')\n",
        "    print(f\"F1-Score: {f1}\")\n",
        "\n",
        "    # Classification Report\n",
        "    print(\"Classification Report:\")\n",
        "    print(classification_report(y_test_classes, y_pred_classes))\n",
        "\n",
        "    # Confusion Matrix\n",
        "    cm = confusion_matrix(y_test_classes, y_pred_classes)\n",
        "    classes = [\"Tumor\",\"Normal\"]\n",
        "    plot_confusion_matrix(cm, classes, title='Confusion Matrix')\n",
        "\n",
        "# Modeli değerlendir\n",
        "evaluate_model(model, x_test, y_test)\n"
      ]
    }
  ],
  "metadata": {
    "accelerator": "GPU",
    "colab": {
      "machine_shape": "hm",
      "provenance": [],
      "gpuType": "V100"
    },
    "kernelspec": {
      "display_name": "Python 3",
      "name": "python3"
    },
    "language_info": {
      "name": "python"
    }
  },
  "nbformat": 4,
  "nbformat_minor": 0
}